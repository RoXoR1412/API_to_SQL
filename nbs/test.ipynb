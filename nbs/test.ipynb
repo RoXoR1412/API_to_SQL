{
 "cells": [
  {
   "cell_type": "code",
   "execution_count": null,
   "metadata": {},
   "outputs": [],
   "source": []
  },
  {
   "cell_type": "code",
   "execution_count": 1,
   "metadata": {},
   "outputs": [],
   "source": [
    "import requests"
   ]
  },
  {
   "cell_type": "code",
   "execution_count": 6,
   "metadata": {},
   "outputs": [
    {
     "name": "stdout",
     "output_type": "stream",
     "text": [
      "{'error': {'message': 'Request failed with status code 404', 'name': 'AxiosError', 'stack': 'AxiosError: Request failed with status code 404\\n    at settle (/www/wwwroot/api.apihubs.in/node_modules/axios/dist/node/axios.cjs:2026:12)\\n    at IncomingMessage.handleStreamEnd (/www/wwwroot/api.apihubs.in/node_modules/axios/dist/node/axios.cjs:3142:11)\\n    at IncomingMessage.emit (node:events:531:35)\\n    at endReadableNT (node:internal/streams/readable:1696:12)\\n    at process.processTicksAndRejections (node:internal/process/task_queues:82:21)\\n    at Axios.request (/www/wwwroot/api.apihubs.in/node_modules/axios/dist/node/axios.cjs:4252:41)\\n    at process.processTicksAndRejections (node:internal/process/task_queues:95:5)\\n    at async /www/wwwroot/api.apihubs.in/lib/spotify.js:217:23', 'config': {'transitional': {'silentJSONParsing': True, 'forcedJSONParsing': True, 'clarifyTimeoutError': False}, 'adapter': ['xhr', 'http', 'fetch'], 'transformRequest': [None], 'transformResponse': [None], 'timeout': 0, 'xsrfCookieName': 'XSRF-TOKEN', 'xsrfHeaderName': 'X-XSRF-TOKEN', 'maxContentLength': -1, 'maxBodyLength': -1, 'env': {}, 'headers': {'Accept': 'application/json, text/plain, */*', 'User-Agent': 'axios/1.7.9', 'Accept-Encoding': 'gzip, compress, deflate, br'}, 'method': 'get', 'url': 'http://localhost:3080/download-online?url=https://open.spotify.com/track/5O2P9iiztwhomNh8xkR9lJ?si=8def526d33f44073'}, 'code': 'ERR_BAD_REQUEST', 'status': 404}}\n"
     ]
    }
   ],
   "source": [
    "\n",
    "\n",
    "url = \"https://spotify-downloader8.p.rapidapi.com/spotify/songdladv\"\n",
    "\n",
    "querystring = {\"note\":\"its take time upto 1 min\",\"search\":\"https://open.spotify.com/track/5O2P9iiztwhomNh8xkR9lJ?si=8def526d33f44073\"}\n",
    "\n",
    "headers = {\n",
    "\t\"x-rapidapi-key\": \"33b5ee0a21msh68561ef43afe8cbp1ea614jsn169920c1f69e\",\n",
    "\t\"x-rapidapi-host\": \"spotify-downloader8.p.rapidapi.com\"\n",
    "}\n",
    "\n",
    "response = requests.get(url, headers=headers, params=querystring)\n",
    "\n",
    "print(response.json())"
   ]
  }
 ],
 "metadata": {
  "kernelspec": {
   "display_name": "venv",
   "language": "python",
   "name": "python3"
  },
  "language_info": {
   "codemirror_mode": {
    "name": "ipython",
    "version": 3
   },
   "file_extension": ".py",
   "mimetype": "text/x-python",
   "name": "python",
   "nbconvert_exporter": "python",
   "pygments_lexer": "ipython3",
   "version": "3.13.2"
  }
 },
 "nbformat": 4,
 "nbformat_minor": 2
}
